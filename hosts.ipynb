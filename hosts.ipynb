{
 "cells": [
  {
   "cell_type": "code",
   "execution_count": 1,
   "metadata": {},
   "outputs": [],
   "source": [
    "%load_ext autoreload\n",
    "%autoreload 2"
   ]
  },
  {
   "cell_type": "code",
   "execution_count": 2,
   "metadata": {},
   "outputs": [],
   "source": [
    "from damnsshmanager.config import Config"
   ]
  },
  {
   "cell_type": "code",
   "execution_count": 3,
   "metadata": {},
   "outputs": [
    {
     "data": {
      "text/plain": [
       "'/home/nils'"
      ]
     },
     "execution_count": 3,
     "metadata": {},
     "output_type": "execute_result"
    }
   ],
   "source": [
    "Config.home_dir"
   ]
  },
  {
   "cell_type": "code",
   "execution_count": 4,
   "metadata": {},
   "outputs": [
    {
     "data": {
      "text/plain": [
       "'/home/nils/.damnsshmanager'"
      ]
     },
     "execution_count": 4,
     "metadata": {},
     "output_type": "execute_result"
    }
   ],
   "source": [
    "Config.app_dir"
   ]
  },
  {
   "cell_type": "code",
   "execution_count": 5,
   "metadata": {},
   "outputs": [],
   "source": [
    "from damnsshmanager import hosts"
   ]
  },
  {
   "cell_type": "code",
   "execution_count": 6,
   "metadata": {},
   "outputs": [
    {
     "data": {
      "text/plain": [
       "[\"Host(alias='semapp', addr='semapp.uni-due.de', username='hy0770', port=22)\",\n",
       " \"Host(alias='wiki', addr='wiki.ub.uni-due.de', username='mcrnverh', port=22)\",\n",
       " \"Host(alias='source', addr='source.ub.uni-due.de', username='mcrnverh', port=22)\",\n",
       " \"Host(alias='redmine', addr='redmine.ub.uni-due.de', username='mcrnverh', port=22)\",\n",
       " \"Host(alias='hindenbug', addr='kaus.uberspace.de', username='hinden', port=22)\",\n",
       " \"Host(alias='home', addr='localhost', username='nils', port=22)\",\n",
       " \"Host(alias='quasiduo', addr='quasiduo.no-ip.biz', username='admin', port=22)\",\n",
       " \"Host(alias='semappvsi', addr='185.73.20.142', username='hy0770', port=22)\",\n",
       " \"Host(alias='opacfacade', addr='opac-facade.ub.uni-due.de', username='mcrnverh', port=22)\",\n",
       " \"Host(alias='udewebserver', addr='staff.uni-due.de', username='hy0770', port=22)\",\n",
       " \"Host(alias='quark', addr='192.168.178.4', username='admin', port=22)\",\n",
       " \"Host(alias='aggriotagg', addr='132.252.211.152', username='pi', port=22)\",\n",
       " \"Host(alias='aggriotsgx', addr='132.252.211.115', username='aggriot', port=22)\",\n",
       " \"Host(alias='ojstest', addr='ojstest.ub.uni-due.de', username='ojsadmin', port=22)\"]"
      ]
     },
     "execution_count": 6,
     "metadata": {},
     "output_type": "execute_result"
    }
   ],
   "source": [
    "[str(h) for h in hosts.get_all_hosts()]"
   ]
  },
  {
   "cell_type": "code",
   "execution_count": 42,
   "metadata": {},
   "outputs": [
    {
     "name": "stdout",
     "output_type": "stream",
     "text": [
      "a host with alias \"sample\" is already present\n"
     ]
    }
   ],
   "source": [
    "hosts.add(alias='sample', addr='localhost')"
   ]
  },
  {
   "cell_type": "code",
   "execution_count": 44,
   "metadata": {},
   "outputs": [
    {
     "name": "stdout",
     "output_type": "stream",
     "text": [
      "removed host with alias \"sample\"\n"
     ]
    }
   ],
   "source": [
    "hosts.delete('sample')"
   ]
  }
 ],
 "metadata": {
  "kernelspec": {
   "display_name": "Python 3",
   "language": "python",
   "name": "python3"
  },
  "language_info": {
   "codemirror_mode": {
    "name": "ipython",
    "version": 3
   },
   "file_extension": ".py",
   "mimetype": "text/x-python",
   "name": "python",
   "nbconvert_exporter": "python",
   "pygments_lexer": "ipython3",
   "version": "3.6.4"
  }
 },
 "nbformat": 4,
 "nbformat_minor": 2
}
